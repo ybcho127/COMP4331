{
  "nbformat": 4,
  "nbformat_minor": 0,
  "metadata": {
    "kernelspec": {
      "display_name": "Python 3",
      "language": "python",
      "name": "python3"
    },
    "language_info": {
      "codemirror_mode": {
        "name": "ipython",
        "version": 3
      },
      "file_extension": ".py",
      "mimetype": "text/x-python",
      "name": "python",
      "nbconvert_exporter": "python",
      "pygments_lexer": "ipython3",
      "version": "3.6.6"
    },
    "colab": {
      "provenance": [],
      "collapsed_sections": []
    },
    "accelerator": "TPU"
  },
  "cells": [
    {
      "cell_type": "markdown",
      "metadata": {
        "id": "5c90dXtRFRkO"
      },
      "source": [
        "# Comp4331 Assignment 1"
      ]
    },
    {
      "cell_type": "markdown",
      "metadata": {
        "id": "ksLNEuRRFRkS"
      },
      "source": [
        "## Preparing the dataset"
      ]
    },
    {
      "cell_type": "code",
      "metadata": {
        "id": "7bMftwuDFRkV"
      },
      "source": [
        "import seaborn as sns\n",
        "import numpy as np\n",
        "import pandas as pd\n",
        "import matplotlib.pyplot as plt\n",
        "import scipy\n",
        "import sklearn"
      ],
      "execution_count": 51,
      "outputs": []
    },
    {
      "cell_type": "code",
      "metadata": {
        "id": "TLfFVd48FRkW"
      },
      "source": [
        "# Please ensure the file \"forestfires.csv\" is under current directory\n",
        "data_file = \"forestfires.csv\""
      ],
      "execution_count": 52,
      "outputs": []
    },
    {
      "cell_type": "code",
      "metadata": {
        "id": "xu4X_gOpFRkW"
      },
      "source": [
        "data_df = pd.read_csv(data_file, sep=',')"
      ],
      "execution_count": 53,
      "outputs": []
    },
    {
      "cell_type": "code",
      "metadata": {
        "id": "k5E2FE8oFRkW",
        "colab": {
          "base_uri": "https://localhost:8080/",
          "height": 363
        },
        "outputId": "e8f3f803-c8a9-4ea2-f6a6-f978c1742e19"
      },
      "source": [
        "data_df.head(10)"
      ],
      "execution_count": 54,
      "outputs": [
        {
          "output_type": "execute_result",
          "data": {
            "text/plain": [
              "   X  Y month  day  FFMC    DMC     DC   ISI  temp  RH  wind  rain  area\n",
              "0  7  5   mar  fri  86.2   26.2   94.3   5.1   8.2  51   6.7   0.0   0.0\n",
              "1  7  4   oct  tue  90.6   35.4  669.1   6.7  18.0  33   0.9   0.0   0.0\n",
              "2  7  4   oct  sat  90.6   43.7  686.9   6.7  14.6  33   1.3   0.0   0.0\n",
              "3  8  6   mar  fri  91.7   33.3   77.5   9.0   8.3  97   4.0   0.2   0.0\n",
              "4  8  6   mar  sun  89.3   51.3  102.2   9.6  11.4  99   1.8   0.0   0.0\n",
              "5  8  6   aug  sun  92.3   85.3  488.0  14.7  22.2  29   5.4   0.0   0.0\n",
              "6  8  6   aug  mon  92.3   88.9  495.6   8.5  24.1  27   3.1   0.0   0.0\n",
              "7  8  6   aug  mon  91.5  145.4  608.2  10.7   8.0  86   2.2   0.0   0.0\n",
              "8  8  6   sep  tue  91.0  129.5  692.6   7.0  13.1  63   5.4   0.0   0.0\n",
              "9  7  5   sep  sat  92.5   88.0  698.6   7.1  22.8  40   4.0   0.0   0.0"
            ],
            "text/html": [
              "\n",
              "  <div id=\"df-a6d2f9dd-23fe-4a2c-86b5-3872e2cc3d0e\">\n",
              "    <div class=\"colab-df-container\">\n",
              "      <div>\n",
              "<style scoped>\n",
              "    .dataframe tbody tr th:only-of-type {\n",
              "        vertical-align: middle;\n",
              "    }\n",
              "\n",
              "    .dataframe tbody tr th {\n",
              "        vertical-align: top;\n",
              "    }\n",
              "\n",
              "    .dataframe thead th {\n",
              "        text-align: right;\n",
              "    }\n",
              "</style>\n",
              "<table border=\"1\" class=\"dataframe\">\n",
              "  <thead>\n",
              "    <tr style=\"text-align: right;\">\n",
              "      <th></th>\n",
              "      <th>X</th>\n",
              "      <th>Y</th>\n",
              "      <th>month</th>\n",
              "      <th>day</th>\n",
              "      <th>FFMC</th>\n",
              "      <th>DMC</th>\n",
              "      <th>DC</th>\n",
              "      <th>ISI</th>\n",
              "      <th>temp</th>\n",
              "      <th>RH</th>\n",
              "      <th>wind</th>\n",
              "      <th>rain</th>\n",
              "      <th>area</th>\n",
              "    </tr>\n",
              "  </thead>\n",
              "  <tbody>\n",
              "    <tr>\n",
              "      <th>0</th>\n",
              "      <td>7</td>\n",
              "      <td>5</td>\n",
              "      <td>mar</td>\n",
              "      <td>fri</td>\n",
              "      <td>86.2</td>\n",
              "      <td>26.2</td>\n",
              "      <td>94.3</td>\n",
              "      <td>5.1</td>\n",
              "      <td>8.2</td>\n",
              "      <td>51</td>\n",
              "      <td>6.7</td>\n",
              "      <td>0.0</td>\n",
              "      <td>0.0</td>\n",
              "    </tr>\n",
              "    <tr>\n",
              "      <th>1</th>\n",
              "      <td>7</td>\n",
              "      <td>4</td>\n",
              "      <td>oct</td>\n",
              "      <td>tue</td>\n",
              "      <td>90.6</td>\n",
              "      <td>35.4</td>\n",
              "      <td>669.1</td>\n",
              "      <td>6.7</td>\n",
              "      <td>18.0</td>\n",
              "      <td>33</td>\n",
              "      <td>0.9</td>\n",
              "      <td>0.0</td>\n",
              "      <td>0.0</td>\n",
              "    </tr>\n",
              "    <tr>\n",
              "      <th>2</th>\n",
              "      <td>7</td>\n",
              "      <td>4</td>\n",
              "      <td>oct</td>\n",
              "      <td>sat</td>\n",
              "      <td>90.6</td>\n",
              "      <td>43.7</td>\n",
              "      <td>686.9</td>\n",
              "      <td>6.7</td>\n",
              "      <td>14.6</td>\n",
              "      <td>33</td>\n",
              "      <td>1.3</td>\n",
              "      <td>0.0</td>\n",
              "      <td>0.0</td>\n",
              "    </tr>\n",
              "    <tr>\n",
              "      <th>3</th>\n",
              "      <td>8</td>\n",
              "      <td>6</td>\n",
              "      <td>mar</td>\n",
              "      <td>fri</td>\n",
              "      <td>91.7</td>\n",
              "      <td>33.3</td>\n",
              "      <td>77.5</td>\n",
              "      <td>9.0</td>\n",
              "      <td>8.3</td>\n",
              "      <td>97</td>\n",
              "      <td>4.0</td>\n",
              "      <td>0.2</td>\n",
              "      <td>0.0</td>\n",
              "    </tr>\n",
              "    <tr>\n",
              "      <th>4</th>\n",
              "      <td>8</td>\n",
              "      <td>6</td>\n",
              "      <td>mar</td>\n",
              "      <td>sun</td>\n",
              "      <td>89.3</td>\n",
              "      <td>51.3</td>\n",
              "      <td>102.2</td>\n",
              "      <td>9.6</td>\n",
              "      <td>11.4</td>\n",
              "      <td>99</td>\n",
              "      <td>1.8</td>\n",
              "      <td>0.0</td>\n",
              "      <td>0.0</td>\n",
              "    </tr>\n",
              "    <tr>\n",
              "      <th>5</th>\n",
              "      <td>8</td>\n",
              "      <td>6</td>\n",
              "      <td>aug</td>\n",
              "      <td>sun</td>\n",
              "      <td>92.3</td>\n",
              "      <td>85.3</td>\n",
              "      <td>488.0</td>\n",
              "      <td>14.7</td>\n",
              "      <td>22.2</td>\n",
              "      <td>29</td>\n",
              "      <td>5.4</td>\n",
              "      <td>0.0</td>\n",
              "      <td>0.0</td>\n",
              "    </tr>\n",
              "    <tr>\n",
              "      <th>6</th>\n",
              "      <td>8</td>\n",
              "      <td>6</td>\n",
              "      <td>aug</td>\n",
              "      <td>mon</td>\n",
              "      <td>92.3</td>\n",
              "      <td>88.9</td>\n",
              "      <td>495.6</td>\n",
              "      <td>8.5</td>\n",
              "      <td>24.1</td>\n",
              "      <td>27</td>\n",
              "      <td>3.1</td>\n",
              "      <td>0.0</td>\n",
              "      <td>0.0</td>\n",
              "    </tr>\n",
              "    <tr>\n",
              "      <th>7</th>\n",
              "      <td>8</td>\n",
              "      <td>6</td>\n",
              "      <td>aug</td>\n",
              "      <td>mon</td>\n",
              "      <td>91.5</td>\n",
              "      <td>145.4</td>\n",
              "      <td>608.2</td>\n",
              "      <td>10.7</td>\n",
              "      <td>8.0</td>\n",
              "      <td>86</td>\n",
              "      <td>2.2</td>\n",
              "      <td>0.0</td>\n",
              "      <td>0.0</td>\n",
              "    </tr>\n",
              "    <tr>\n",
              "      <th>8</th>\n",
              "      <td>8</td>\n",
              "      <td>6</td>\n",
              "      <td>sep</td>\n",
              "      <td>tue</td>\n",
              "      <td>91.0</td>\n",
              "      <td>129.5</td>\n",
              "      <td>692.6</td>\n",
              "      <td>7.0</td>\n",
              "      <td>13.1</td>\n",
              "      <td>63</td>\n",
              "      <td>5.4</td>\n",
              "      <td>0.0</td>\n",
              "      <td>0.0</td>\n",
              "    </tr>\n",
              "    <tr>\n",
              "      <th>9</th>\n",
              "      <td>7</td>\n",
              "      <td>5</td>\n",
              "      <td>sep</td>\n",
              "      <td>sat</td>\n",
              "      <td>92.5</td>\n",
              "      <td>88.0</td>\n",
              "      <td>698.6</td>\n",
              "      <td>7.1</td>\n",
              "      <td>22.8</td>\n",
              "      <td>40</td>\n",
              "      <td>4.0</td>\n",
              "      <td>0.0</td>\n",
              "      <td>0.0</td>\n",
              "    </tr>\n",
              "  </tbody>\n",
              "</table>\n",
              "</div>\n",
              "      <button class=\"colab-df-convert\" onclick=\"convertToInteractive('df-a6d2f9dd-23fe-4a2c-86b5-3872e2cc3d0e')\"\n",
              "              title=\"Convert this dataframe to an interactive table.\"\n",
              "              style=\"display:none;\">\n",
              "        \n",
              "  <svg xmlns=\"http://www.w3.org/2000/svg\" height=\"24px\"viewBox=\"0 0 24 24\"\n",
              "       width=\"24px\">\n",
              "    <path d=\"M0 0h24v24H0V0z\" fill=\"none\"/>\n",
              "    <path d=\"M18.56 5.44l.94 2.06.94-2.06 2.06-.94-2.06-.94-.94-2.06-.94 2.06-2.06.94zm-11 1L8.5 8.5l.94-2.06 2.06-.94-2.06-.94L8.5 2.5l-.94 2.06-2.06.94zm10 10l.94 2.06.94-2.06 2.06-.94-2.06-.94-.94-2.06-.94 2.06-2.06.94z\"/><path d=\"M17.41 7.96l-1.37-1.37c-.4-.4-.92-.59-1.43-.59-.52 0-1.04.2-1.43.59L10.3 9.45l-7.72 7.72c-.78.78-.78 2.05 0 2.83L4 21.41c.39.39.9.59 1.41.59.51 0 1.02-.2 1.41-.59l7.78-7.78 2.81-2.81c.8-.78.8-2.07 0-2.86zM5.41 20L4 18.59l7.72-7.72 1.47 1.35L5.41 20z\"/>\n",
              "  </svg>\n",
              "      </button>\n",
              "      \n",
              "  <style>\n",
              "    .colab-df-container {\n",
              "      display:flex;\n",
              "      flex-wrap:wrap;\n",
              "      gap: 12px;\n",
              "    }\n",
              "\n",
              "    .colab-df-convert {\n",
              "      background-color: #E8F0FE;\n",
              "      border: none;\n",
              "      border-radius: 50%;\n",
              "      cursor: pointer;\n",
              "      display: none;\n",
              "      fill: #1967D2;\n",
              "      height: 32px;\n",
              "      padding: 0 0 0 0;\n",
              "      width: 32px;\n",
              "    }\n",
              "\n",
              "    .colab-df-convert:hover {\n",
              "      background-color: #E2EBFA;\n",
              "      box-shadow: 0px 1px 2px rgba(60, 64, 67, 0.3), 0px 1px 3px 1px rgba(60, 64, 67, 0.15);\n",
              "      fill: #174EA6;\n",
              "    }\n",
              "\n",
              "    [theme=dark] .colab-df-convert {\n",
              "      background-color: #3B4455;\n",
              "      fill: #D2E3FC;\n",
              "    }\n",
              "\n",
              "    [theme=dark] .colab-df-convert:hover {\n",
              "      background-color: #434B5C;\n",
              "      box-shadow: 0px 1px 3px 1px rgba(0, 0, 0, 0.15);\n",
              "      filter: drop-shadow(0px 1px 2px rgba(0, 0, 0, 0.3));\n",
              "      fill: #FFFFFF;\n",
              "    }\n",
              "  </style>\n",
              "\n",
              "      <script>\n",
              "        const buttonEl =\n",
              "          document.querySelector('#df-a6d2f9dd-23fe-4a2c-86b5-3872e2cc3d0e button.colab-df-convert');\n",
              "        buttonEl.style.display =\n",
              "          google.colab.kernel.accessAllowed ? 'block' : 'none';\n",
              "\n",
              "        async function convertToInteractive(key) {\n",
              "          const element = document.querySelector('#df-a6d2f9dd-23fe-4a2c-86b5-3872e2cc3d0e');\n",
              "          const dataTable =\n",
              "            await google.colab.kernel.invokeFunction('convertToInteractive',\n",
              "                                                     [key], {});\n",
              "          if (!dataTable) return;\n",
              "\n",
              "          const docLinkHtml = 'Like what you see? Visit the ' +\n",
              "            '<a target=\"_blank\" href=https://colab.research.google.com/notebooks/data_table.ipynb>data table notebook</a>'\n",
              "            + ' to learn more about interactive tables.';\n",
              "          element.innerHTML = '';\n",
              "          dataTable['output_type'] = 'display_data';\n",
              "          await google.colab.output.renderOutput(dataTable, element);\n",
              "          const docLink = document.createElement('div');\n",
              "          docLink.innerHTML = docLinkHtml;\n",
              "          element.appendChild(docLink);\n",
              "        }\n",
              "      </script>\n",
              "    </div>\n",
              "  </div>\n",
              "  "
            ]
          },
          "metadata": {},
          "execution_count": 54
        }
      ]
    },
    {
      "cell_type": "markdown",
      "metadata": {
        "id": "WC1I0m4XFRkX"
      },
      "source": [
        "## Task 1. Basic summary"
      ]
    },
    {
      "cell_type": "markdown",
      "source": [
        "\n",
        "1. Report the mean, standard deviation, mode, median, and the five-number summary of the attributes RH and wind."
      ],
      "metadata": {
        "id": "rPAxLCLIC0yQ"
      }
    },
    {
      "cell_type": "code",
      "metadata": {
        "id": "CQvmriIuFRkY",
        "colab": {
          "base_uri": "https://localhost:8080/"
        },
        "outputId": "9f72a2c7-5384-4079-f0e9-7a42eb3be8e1"
      },
      "source": [
        "print(\"Summary Statistics for RH\")\n",
        "print(f\"mean: {data_df['RH'].describe()[1]}\")\n",
        "print(f\"standard deviation: {data_df['RH'].describe()[2]}\")\n",
        "print(f\"mode: {data_df['RH'].mode().iloc[0]}\")\n",
        "print(f\"median: {data_df['RH'].median()}\")\n",
        "print(f\"five number summary: \\n{data_df['RH'].describe()[3:]}\\n\")\n",
        "\n",
        "print(\"Summary Statistics for wind\")\n",
        "print(f\"mean: {data_df['wind'].describe()[1]}\")\n",
        "print(f\"standard deviation: {data_df['wind'].describe()[2]}\")\n",
        "print(f\"mode: {data_df['wind'].mode().iloc[0]}\")\n",
        "print(f\"median: {data_df['wind'].median()}\")\n",
        "print(f\"five number summary: \\n{data_df['wind'].describe()[3:]}\")"
      ],
      "execution_count": 55,
      "outputs": [
        {
          "output_type": "stream",
          "name": "stdout",
          "text": [
            "Summary Statistics for RH\n",
            "mean: 44.28820116054158\n",
            "standard deviation: 16.31746923937841\n",
            "mode: 27\n",
            "median: 42.0\n",
            "five number summary: \n",
            "min     15.0\n",
            "25%     33.0\n",
            "50%     42.0\n",
            "75%     53.0\n",
            "max    100.0\n",
            "Name: RH, dtype: float64\n",
            "\n",
            "Summary Statistics for wind\n",
            "mean: 4.017601547388782\n",
            "standard deviation: 1.7916526009464617\n",
            "mode: 2.2\n",
            "median: 4.0\n",
            "five number summary: \n",
            "min    0.4\n",
            "25%    2.7\n",
            "50%    4.0\n",
            "75%    4.9\n",
            "max    9.4\n",
            "Name: wind, dtype: float64\n"
          ]
        }
      ]
    },
    {
      "cell_type": "markdown",
      "metadata": {
        "id": "8XiEGUt2FRkY"
      },
      "source": [
        "## Task 2. Box plot"
      ]
    },
    {
      "cell_type": "code",
      "metadata": {
        "id": "qKUcWVy0FRkZ",
        "colab": {
          "base_uri": "https://localhost:8080/",
          "height": 484
        },
        "outputId": "aa6a909a-2455-4225-c400-3b095d43b826"
      },
      "source": [
        "fig, axes = plt.subplots(1, 3, figsize = (30,10))\n",
        "\n",
        "sns.boxplot(data = data_df, y = 'RH', ax = axes[0])\n",
        "sns.boxplot(data = data_df, x='month', y = 'RH', order = ['jan', 'feb', 'mar', 'apr', 'may', 'jun',\n",
        "                                                          'jul', 'aug', 'sep', 'oct', 'nov', 'dec'], ax = axes[1])\n",
        "sns.boxplot(data = data_df, x='day', y = 'RH', order = ['mon', 'tue', 'wed', 'thu',\n",
        "                                                        'fri', 'sat', 'sun'], ax = axes[2])"
      ],
      "execution_count": 56,
      "outputs": [
        {
          "output_type": "execute_result",
          "data": {
            "text/plain": [
              "<matplotlib.axes._subplots.AxesSubplot at 0x7eff17ac3d90>"
            ]
          },
          "metadata": {},
          "execution_count": 56
        },
        {
          "output_type": "display_data",
          "data": {
            "text/plain": [
              "<Figure size 2160x720 with 3 Axes>"
            ],
            "image/png": "[encoded data removed]"
          },
          "metadata": {
            "needs_background": "light"
          }
        }
      ]
    },
    {
      "cell_type": "markdown",
      "metadata": {
        "id": "cXqfcvGAFRkZ"
      },
      "source": [
        "## Task 3. Hist plot"
      ]
    },
    {
      "cell_type": "code",
      "metadata": {
        "id": "J9r00oA4FRkZ",
        "colab": {
          "base_uri": "https://localhost:8080/",
          "height": 639
        },
        "outputId": "28d39ac3-e22a-4d76-908c-884c85702cba"
      },
      "source": [
        "fig, axes = plt.subplots(1, 2, figsize = (20,10))\n",
        "\n",
        "sns.histplot(data = data_df, x='wind', bins = 8, ax = axes[0]).set(title = \"wind\")\n",
        "sns.histplot(data = data_df, x='RH', bins = 8, ax = axes[1]).set(title = \"RH\")"
      ],
      "execution_count": 57,
      "outputs": [
        {
          "output_type": "execute_result",
          "data": {
            "text/plain": [
              "[Text(0.5, 1.0, 'RH')]"
            ]
          },
          "metadata": {},
          "execution_count": 57
        },
        {
          "output_type": "display_data",
          "data": {
            "text/plain": [
              "<Figure size 1440x720 with 2 Axes>"
            ],
            "image/png": "[encoded data removed]"
          },
          "metadata": {
            "needs_background": "light"
          }
        }
      ]
    },
    {
      "cell_type": "markdown",
      "metadata": {
        "id": "uxdZUElAFRkZ"
      },
      "source": [
        "# Task 4. Scatter plot"
      ]
    },
    {
      "cell_type": "code",
      "metadata": {
        "id": "FuBfJ-J6FRka",
        "colab": {
          "base_uri": "https://localhost:8080/",
          "height": 660
        },
        "outputId": "4a6774aa-b40b-42cb-8fd6-156f9a934d5a"
      },
      "source": [
        "plt.figure(figsize = (10,10))\n",
        "sns.scatterplot(data = data_df, x = 'area', y='wind')\n",
        "print(data_df[['area','wind']].corr(method = 'pearson'))"
      ],
      "execution_count": 58,
      "outputs": [
        {
          "output_type": "stream",
          "name": "stdout",
          "text": [
            "          area      wind\n",
            "area  1.000000  0.012317\n",
            "wind  0.012317  1.000000\n"
          ]
        },
        {
          "output_type": "display_data",
          "data": {
            "text/plain": [
              "<Figure size 720x720 with 1 Axes>"
            ],
            "image/png": "[encoded data removed]"
          },
          "metadata": {
            "needs_background": "light"
          }
        }
      ]
    },
    {
      "cell_type": "markdown",
      "metadata": {
        "id": "E4zuSdubFRka"
      },
      "source": [
        "## Task 5. Correlation"
      ]
    },
    {
      "cell_type": "code",
      "metadata": {
        "id": "iEcXOttPFRkb",
        "colab": {
          "base_uri": "https://localhost:8080/"
        },
        "outputId": "7f28190e-f68c-4e11-db25-9d7168d6aa80"
      },
      "source": [
        "print(data_df[['area','FFMC']].corr(method = 'pearson'))\n",
        "print(data_df[['area','DMC']].corr(method = 'pearson'))\n",
        "print(data_df[['area','DC']].corr(method = 'pearson'))\n",
        "print(data_df[['area','ISI']].corr(method = 'pearson'))\n",
        "print(data_df[['area','RH']].corr(method = 'pearson'))\n",
        "print(data_df[['area','wind']].corr(method = 'pearson'))"
      ],
      "execution_count": 59,
      "outputs": [
        {
          "output_type": "stream",
          "name": "stdout",
          "text": [
            "          area      FFMC\n",
            "area  1.000000  0.040122\n",
            "FFMC  0.040122  1.000000\n",
            "          area       DMC\n",
            "area  1.000000  0.072994\n",
            "DMC   0.072994  1.000000\n",
            "          area        DC\n",
            "area  1.000000  0.049383\n",
            "DC    0.049383  1.000000\n",
            "          area       ISI\n",
            "area  1.000000  0.008258\n",
            "ISI   0.008258  1.000000\n",
            "          area        RH\n",
            "area  1.000000 -0.075519\n",
            "RH   -0.075519  1.000000\n",
            "          area      wind\n",
            "area  1.000000  0.012317\n",
            "wind  0.012317  1.000000\n"
          ]
        }
      ]
    },
    {
      "cell_type": "code",
      "source": [
        "FFMC_corr = abs(data_df[['area','FFMC']].corr(method = 'pearson').iloc[0,1])\n",
        "FFMC_corr"
      ],
      "metadata": {
        "colab": {
          "base_uri": "https://localhost:8080/"
        },
        "id": "ZHv7ClBcrF8k",
        "outputId": "f69f6234-0b71-4990-f5f8-7503880aa0ce"
      },
      "execution_count": 60,
      "outputs": [
        {
          "output_type": "execute_result",
          "data": {
            "text/plain": [
              "0.0401220041586204"
            ]
          },
          "metadata": {},
          "execution_count": 60
        }
      ]
    },
    {
      "cell_type": "code",
      "source": [
        "RH_corr = abs(data_df[['area','RH']].corr(method = 'pearson').iloc[0,1])\n",
        "RH_corr"
      ],
      "metadata": {
        "colab": {
          "base_uri": "https://localhost:8080/"
        },
        "id": "bZoouHTcrQj_",
        "outputId": "975f8308-8143-473e-825e-36b85ed466bd"
      },
      "execution_count": 61,
      "outputs": [
        {
          "output_type": "execute_result",
          "data": {
            "text/plain": [
              "0.07551856346988933"
            ]
          },
          "metadata": {},
          "execution_count": 61
        }
      ]
    },
    {
      "cell_type": "code",
      "source": [
        "FFMC_corr = abs(data_df[['area','FFMC']].corr(method = 'pearson').iloc[0,1])\n",
        "DMC_corr = abs(data_df[['area','DMC']].corr(method = 'pearson').iloc[0,1])\n",
        "DC_corr = abs(data_df[['area','DC']].corr(method = 'pearson').iloc[0,1])\n",
        "ISI_corr = abs(data_df[['area','ISI']].corr(method = 'pearson').iloc[0,1])\n",
        "RH_corr = abs(data_df[['area','RH']].corr(method = 'pearson').iloc[0,1])\n",
        "wind_corr = abs(data_df[['area','wind']].corr(method = 'pearson').iloc[0,1])\n",
        "\n",
        "key_dict = ['FFMC_corr', 'DMC_corr', 'DC_corr', 'ISI_corr', 'RH_corr', 'wind_corr']\n",
        "val_dict = [FFMC_corr, DMC_corr, DC_corr, ISI_corr, RH_corr, wind_corr]\n",
        "corr_dict = {}\n",
        "\n",
        "for key, value in zip(key_dict, val_dict):\n",
        "  corr_dict[key] = value\n",
        "\n",
        "corr_dict = sorted(corr_dict.items(), key=lambda x: x[1], reverse=True)\n",
        "top3_dict = corr_dict[:3]\n",
        "\n",
        "for key, value in top3_dict:\n",
        "  print(f'{key}:\\t{value}')"
      ],
      "metadata": {
        "colab": {
          "base_uri": "https://localhost:8080/"
        },
        "id": "85Gh02VXQ0LG",
        "outputId": "f708e367-1cdc-437a-ca45-b05c0d219257"
      },
      "execution_count": 62,
      "outputs": [
        {
          "output_type": "stream",
          "name": "stdout",
          "text": [
            "RH_corr:\t0.07551856346988933\n",
            "DMC_corr:\t0.07299429625105723\n",
            "DC_corr:\t0.04938322529891621\n"
          ]
        }
      ]
    },
    {
      "cell_type": "markdown",
      "source": [
        "RH, DMC, and DC are the top 3 attributes that are most correlated (either positively or negatively) with area."
      ],
      "metadata": {
        "id": "CHT3e7PTH2Z8"
      }
    },
    {
      "cell_type": "markdown",
      "metadata": {
        "id": "gF11LbKwFRkb"
      },
      "source": [
        "# Task 6. $\\chi^2$-test\n",
        "\n"
      ]
    },
    {
      "cell_type": "code",
      "metadata": {
        "id": "gFTXM1a7FRkb",
        "colab": {
          "base_uri": "https://localhost:8080/"
        },
        "outputId": "c9f7951d-b4e9-42b4-83c7-86c01811a86a"
      },
      "source": [
        "temp_mean = data_df['temp'].mean()\n",
        "wind_mean = data_df['wind'].mean()\n",
        "print(f'temp mean: {temp_mean}\\twind mean: {wind_mean}')\n",
        "data_df['temp_ge_mean'] = data_df['temp'] >= temp_mean\n",
        "data_df['wind_ge_mean'] = data_df['wind'] >= wind_mean\n",
        "\n",
        "crosstab = pd.crosstab(data_df['temp_ge_mean'], data_df['wind_ge_mean'])\n",
        "\n",
        "chi2, p, dof, _ = scipy.stats.chi2_contingency(crosstab)\n",
        "print(f'chi^2: {chi2}\\tp: {p}\\tdof: {dof}')\n",
        "\n",
        "print(crosstab)\n",
        "print('the attributes temp and wind independent of each other')"
      ],
      "execution_count": 63,
      "outputs": [
        {
          "output_type": "stream",
          "name": "stdout",
          "text": [
            "temp mean: 18.88916827852998\twind mean: 4.017601547388782\n",
            "chi^2: 4.6248223286218\tp: 0.031512524845180044\tdof: 1\n",
            "wind_ge_mean  False  True\n",
            "temp_ge_mean             \n",
            "False           125   112\n",
            "True            175   105\n",
            "the attributes temp and wind independent of each other\n"
          ]
        }
      ]
    },
    {
      "cell_type": "code",
      "source": [
        "X_mean = data_df['X'].mean()\n",
        "Y_mean = data_df['Y'].mean()\n",
        "print(f'X mean: {X_mean}\\tY mean: {Y_mean}')\n",
        "data_df['X_ge_mean'] = data_df['X'] >= X_mean\n",
        "data_df['Y_ge_mean'] = data_df['Y'] >= Y_mean\n",
        "\n",
        "crosstab = pd.crosstab(data_df['X_ge_mean'], data_df['Y_ge_mean'])\n",
        "\n",
        "chi2, p, dof, _ = scipy.stats.chi2_contingency(crosstab)\n",
        "print(f'chi^2: {chi2}\\tp: {p}\\tdof: {dof}')\n",
        "\n",
        "print(crosstab)\n",
        "print('the attributes X and Y are dependent of each other')"
      ],
      "metadata": {
        "id": "9Isui0ypLb-F",
        "colab": {
          "base_uri": "https://localhost:8080/"
        },
        "outputId": "a10b65e2-64b2-4721-974a-511c20337b4d"
      },
      "execution_count": 64,
      "outputs": [
        {
          "output_type": "stream",
          "name": "stdout",
          "text": [
            "X mean: 4.669245647969052\tY mean: 4.299806576402321\n",
            "chi^2: 46.3841585605598\tp: 9.719816977512204e-12\tdof: 1\n",
            "Y_ge_mean  False  True\n",
            "X_ge_mean             \n",
            "False        199    68\n",
            "True         112   138\n",
            "the attributes X and Y are dependent of each other\n"
          ]
        }
      ]
    },
    {
      "cell_type": "markdown",
      "metadata": {
        "id": "sSO9g2beFRkb"
      },
      "source": [
        "## Task 7. Normalization"
      ]
    },
    {
      "cell_type": "code",
      "metadata": {
        "id": "7xb3hddiFRkb",
        "colab": {
          "base_uri": "https://localhost:8080/",
          "height": 206
        },
        "outputId": "756744c3-bde3-4b25-d962-1c02d706f38c"
      },
      "source": [
        "from sklearn import preprocessing\n",
        "\n",
        "\n",
        "scaler = preprocessing.MinMaxScaler(feature_range =(0,1))\n",
        "data_df['FFMC_minmax_scaled'] = scaler.fit_transform(data_df[['FFMC']])\n",
        "data_df.head()"
      ],
      "execution_count": 65,
      "outputs": [
        {
          "output_type": "execute_result",
          "data": {
            "text/plain": [
              "   X  Y month  day  FFMC   DMC     DC  ISI  temp  RH  wind  rain  area  \\\n",
              "0  7  5   mar  fri  86.2  26.2   94.3  5.1   8.2  51   6.7   0.0   0.0   \n",
              "1  7  4   oct  tue  90.6  35.4  669.1  6.7  18.0  33   0.9   0.0   0.0   \n",
              "2  7  4   oct  sat  90.6  43.7  686.9  6.7  14.6  33   1.3   0.0   0.0   \n",
              "3  8  6   mar  fri  91.7  33.3   77.5  9.0   8.3  97   4.0   0.2   0.0   \n",
              "4  8  6   mar  sun  89.3  51.3  102.2  9.6  11.4  99   1.8   0.0   0.0   \n",
              "\n",
              "   temp_ge_mean  wind_ge_mean  X_ge_mean  Y_ge_mean  FFMC_minmax_scaled  \n",
              "0         False          True       True       True            0.870968  \n",
              "1         False         False       True      False            0.927742  \n",
              "2         False         False       True      False            0.927742  \n",
              "3         False         False       True       True            0.941935  \n",
              "4         False         False       True       True            0.910968  "
            ],
            "text/html": [
              "\n",
              "  <div id=\"df-ae4213e8-91df-43ff-a8ba-164d0eacd44f\">\n",
              "    <div class=\"colab-df-container\">\n",
              "      <div>\n",
              "<style scoped>\n",
              "    .dataframe tbody tr th:only-of-type {\n",
              "        vertical-align: middle;\n",
              "    }\n",
              "\n",
              "    .dataframe tbody tr th {\n",
              "        vertical-align: top;\n",
              "    }\n",
              "\n",
              "    .dataframe thead th {\n",
              "        text-align: right;\n",
              "    }\n",
              "</style>\n",
              "<table border=\"1\" class=\"dataframe\">\n",
              "  <thead>\n",
              "    <tr style=\"text-align: right;\">\n",
              "      <th></th>\n",
              "      <th>X</th>\n",
              "      <th>Y</th>\n",
              "      <th>month</th>\n",
              "      <th>day</th>\n",
              "      <th>FFMC</th>\n",
              "      <th>DMC</th>\n",
              "      <th>DC</th>\n",
              "      <th>ISI</th>\n",
              "      <th>temp</th>\n",
              "      <th>RH</th>\n",
              "      <th>wind</th>\n",
              "      <th>rain</th>\n",
              "      <th>area</th>\n",
              "      <th>temp_ge_mean</th>\n",
              "      <th>wind_ge_mean</th>\n",
              "      <th>X_ge_mean</th>\n",
              "      <th>Y_ge_mean</th>\n",
              "      <th>FFMC_minmax_scaled</th>\n",
              "    </tr>\n",
              "  </thead>\n",
              "  <tbody>\n",
              "    <tr>\n",
              "      <th>0</th>\n",
              "      <td>7</td>\n",
              "      <td>5</td>\n",
              "      <td>mar</td>\n",
              "      <td>fri</td>\n",
              "      <td>86.2</td>\n",
              "      <td>26.2</td>\n",
              "      <td>94.3</td>\n",
              "      <td>5.1</td>\n",
              "      <td>8.2</td>\n",
              "      <td>51</td>\n",
              "      <td>6.7</td>\n",
              "      <td>0.0</td>\n",
              "      <td>0.0</td>\n",
              "      <td>False</td>\n",
              "      <td>True</td>\n",
              "      <td>True</td>\n",
              "      <td>True</td>\n",
              "      <td>0.870968</td>\n",
              "    </tr>\n",
              "    <tr>\n",
              "      <th>1</th>\n",
              "      <td>7</td>\n",
              "      <td>4</td>\n",
              "      <td>oct</td>\n",
              "      <td>tue</td>\n",
              "      <td>90.6</td>\n",
              "      <td>35.4</td>\n",
              "      <td>669.1</td>\n",
              "      <td>6.7</td>\n",
              "      <td>18.0</td>\n",
              "      <td>33</td>\n",
              "      <td>0.9</td>\n",
              "      <td>0.0</td>\n",
              "      <td>0.0</td>\n",
              "      <td>False</td>\n",
              "      <td>False</td>\n",
              "      <td>True</td>\n",
              "      <td>False</td>\n",
              "      <td>0.927742</td>\n",
              "    </tr>\n",
              "    <tr>\n",
              "      <th>2</th>\n",
              "      <td>7</td>\n",
              "      <td>4</td>\n",
              "      <td>oct</td>\n",
              "      <td>sat</td>\n",
              "      <td>90.6</td>\n",
              "      <td>43.7</td>\n",
              "      <td>686.9</td>\n",
              "      <td>6.7</td>\n",
              "      <td>14.6</td>\n",
              "      <td>33</td>\n",
              "      <td>1.3</td>\n",
              "      <td>0.0</td>\n",
              "      <td>0.0</td>\n",
              "      <td>False</td>\n",
              "      <td>False</td>\n",
              "      <td>True</td>\n",
              "      <td>False</td>\n",
              "      <td>0.927742</td>\n",
              "    </tr>\n",
              "    <tr>\n",
              "      <th>3</th>\n",
              "      <td>8</td>\n",
              "      <td>6</td>\n",
              "      <td>mar</td>\n",
              "      <td>fri</td>\n",
              "      <td>91.7</td>\n",
              "      <td>33.3</td>\n",
              "      <td>77.5</td>\n",
              "      <td>9.0</td>\n",
              "      <td>8.3</td>\n",
              "      <td>97</td>\n",
              "      <td>4.0</td>\n",
              "      <td>0.2</td>\n",
              "      <td>0.0</td>\n",
              "      <td>False</td>\n",
              "      <td>False</td>\n",
              "      <td>True</td>\n",
              "      <td>True</td>\n",
              "      <td>0.941935</td>\n",
              "    </tr>\n",
              "    <tr>\n",
              "      <th>4</th>\n",
              "      <td>8</td>\n",
              "      <td>6</td>\n",
              "      <td>mar</td>\n",
              "      <td>sun</td>\n",
              "      <td>89.3</td>\n",
              "      <td>51.3</td>\n",
              "      <td>102.2</td>\n",
              "      <td>9.6</td>\n",
              "      <td>11.4</td>\n",
              "      <td>99</td>\n",
              "      <td>1.8</td>\n",
              "      <td>0.0</td>\n",
              "      <td>0.0</td>\n",
              "      <td>False</td>\n",
              "      <td>False</td>\n",
              "      <td>True</td>\n",
              "      <td>True</td>\n",
              "      <td>0.910968</td>\n",
              "    </tr>\n",
              "  </tbody>\n",
              "</table>\n",
              "</div>\n",
              "      <button class=\"colab-df-convert\" onclick=\"convertToInteractive('df-ae4213e8-91df-43ff-a8ba-164d0eacd44f')\"\n",
              "              title=\"Convert this dataframe to an interactive table.\"\n",
              "              style=\"display:none;\">\n",
              "        \n",
              "  <svg xmlns=\"http://www.w3.org/2000/svg\" height=\"24px\"viewBox=\"0 0 24 24\"\n",
              "       width=\"24px\">\n",
              "    <path d=\"M0 0h24v24H0V0z\" fill=\"none\"/>\n",
              "    <path d=\"M18.56 5.44l.94 2.06.94-2.06 2.06-.94-2.06-.94-.94-2.06-.94 2.06-2.06.94zm-11 1L8.5 8.5l.94-2.06 2.06-.94-2.06-.94L8.5 2.5l-.94 2.06-2.06.94zm10 10l.94 2.06.94-2.06 2.06-.94-2.06-.94-.94-2.06-.94 2.06-2.06.94z\"/><path d=\"M17.41 7.96l-1.37-1.37c-.4-.4-.92-.59-1.43-.59-.52 0-1.04.2-1.43.59L10.3 9.45l-7.72 7.72c-.78.78-.78 2.05 0 2.83L4 21.41c.39.39.9.59 1.41.59.51 0 1.02-.2 1.41-.59l7.78-7.78 2.81-2.81c.8-.78.8-2.07 0-2.86zM5.41 20L4 18.59l7.72-7.72 1.47 1.35L5.41 20z\"/>\n",
              "  </svg>\n",
              "      </button>\n",
              "      \n",
              "  <style>\n",
              "    .colab-df-container {\n",
              "      display:flex;\n",
              "      flex-wrap:wrap;\n",
              "      gap: 12px;\n",
              "    }\n",
              "\n",
              "    .colab-df-convert {\n",
              "      background-color: #E8F0FE;\n",
              "      border: none;\n",
              "      border-radius: 50%;\n",
              "      cursor: pointer;\n",
              "      display: none;\n",
              "      fill: #1967D2;\n",
              "      height: 32px;\n",
              "      padding: 0 0 0 0;\n",
              "      width: 32px;\n",
              "    }\n",
              "\n",
              "    .colab-df-convert:hover {\n",
              "      background-color: #E2EBFA;\n",
              "      box-shadow: 0px 1px 2px rgba(60, 64, 67, 0.3), 0px 1px 3px 1px rgba(60, 64, 67, 0.15);\n",
              "      fill: #174EA6;\n",
              "    }\n",
              "\n",
              "    [theme=dark] .colab-df-convert {\n",
              "      background-color: #3B4455;\n",
              "      fill: #D2E3FC;\n",
              "    }\n",
              "\n",
              "    [theme=dark] .colab-df-convert:hover {\n",
              "      background-color: #434B5C;\n",
              "      box-shadow: 0px 1px 3px 1px rgba(0, 0, 0, 0.15);\n",
              "      filter: drop-shadow(0px 1px 2px rgba(0, 0, 0, 0.3));\n",
              "      fill: #FFFFFF;\n",
              "    }\n",
              "  </style>\n",
              "\n",
              "      <script>\n",
              "        const buttonEl =\n",
              "          document.querySelector('#df-ae4213e8-91df-43ff-a8ba-164d0eacd44f button.colab-df-convert');\n",
              "        buttonEl.style.display =\n",
              "          google.colab.kernel.accessAllowed ? 'block' : 'none';\n",
              "\n",
              "        async function convertToInteractive(key) {\n",
              "          const element = document.querySelector('#df-ae4213e8-91df-43ff-a8ba-164d0eacd44f');\n",
              "          const dataTable =\n",
              "            await google.colab.kernel.invokeFunction('convertToInteractive',\n",
              "                                                     [key], {});\n",
              "          if (!dataTable) return;\n",
              "\n",
              "          const docLinkHtml = 'Like what you see? Visit the ' +\n",
              "            '<a target=\"_blank\" href=https://colab.research.google.com/notebooks/data_table.ipynb>data table notebook</a>'\n",
              "            + ' to learn more about interactive tables.';\n",
              "          element.innerHTML = '';\n",
              "          dataTable['output_type'] = 'display_data';\n",
              "          await google.colab.output.renderOutput(dataTable, element);\n",
              "          const docLink = document.createElement('div');\n",
              "          docLink.innerHTML = docLinkHtml;\n",
              "          element.appendChild(docLink);\n",
              "        }\n",
              "      </script>\n",
              "    </div>\n",
              "  </div>\n",
              "  "
            ]
          },
          "metadata": {},
          "execution_count": 65
        }
      ]
    },
    {
      "cell_type": "code",
      "source": [
        "scaler = preprocessing.StandardScaler()\n",
        "\n",
        "data_df['DC_z_scaled'] = scaler.fit_transform(data_df[['DC']])\n",
        "data_df['ISI_z_scaled'] = scaler.fit_transform(data_df[['ISI']])\n",
        "data_df['temp_z_scaled'] = scaler.fit_transform(data_df[['temp']])\n",
        "data_df['RH_z_scaled'] = scaler.fit_transform(data_df[['RH']])\n",
        "data_df['wind_z_scaled'] = scaler.fit_transform(data_df[['wind']])\n",
        "\n",
        "data_df.head()"
      ],
      "metadata": {
        "id": "WBIwRKkENKFe",
        "colab": {
          "base_uri": "https://localhost:8080/",
          "height": 300
        },
        "outputId": "9c99e411-5640-4e0b-b754-1fd83d003253"
      },
      "execution_count": 66,
      "outputs": [
        {
          "output_type": "execute_result",
          "data": {
            "text/plain": [
              "   X  Y month  day  FFMC   DMC     DC  ISI  temp  RH  ...  temp_ge_mean  \\\n",
              "0  7  5   mar  fri  86.2  26.2   94.3  5.1   8.2  51  ...         False   \n",
              "1  7  4   oct  tue  90.6  35.4  669.1  6.7  18.0  33  ...         False   \n",
              "2  7  4   oct  sat  90.6  43.7  686.9  6.7  14.6  33  ...         False   \n",
              "3  8  6   mar  fri  91.7  33.3   77.5  9.0   8.3  97  ...         False   \n",
              "4  8  6   mar  sun  89.3  51.3  102.2  9.6  11.4  99  ...         False   \n",
              "\n",
              "   wind_ge_mean  X_ge_mean  Y_ge_mean  FFMC_minmax_scaled  DC_z_scaled  \\\n",
              "0          True       True       True            0.870968    -1.830477   \n",
              "1         False       True      False            0.927742     0.488891   \n",
              "2         False       True      False            0.927742     0.560715   \n",
              "3         False       True       True            0.941935    -1.898266   \n",
              "4         False       True       True            0.910968    -1.798600   \n",
              "\n",
              "   ISI_z_scaled  temp_z_scaled  RH_z_scaled  wind_z_scaled  \n",
              "0     -0.860946      -1.842640     0.411724       1.498614  \n",
              "1     -0.509688      -0.153278    -0.692456      -1.741756  \n",
              "2     -0.509688      -0.739383    -0.692456      -1.518282  \n",
              "3     -0.004756      -1.825402     3.233519      -0.009834  \n",
              "4      0.126966      -1.291012     3.356206      -1.238940  \n",
              "\n",
              "[5 rows x 23 columns]"
            ],
            "text/html": [
              "\n",
              "  <div id=\"df-16a3748f-78fa-4e38-a0cb-1f227cca8ca2\">\n",
              "    <div class=\"colab-df-container\">\n",
              "      <div>\n",
              "<style scoped>\n",
              "    .dataframe tbody tr th:only-of-type {\n",
              "        vertical-align: middle;\n",
              "    }\n",
              "\n",
              "    .dataframe tbody tr th {\n",
              "        vertical-align: top;\n",
              "    }\n",
              "\n",
              "    .dataframe thead th {\n",
              "        text-align: right;\n",
              "    }\n",
              "</style>\n",
              "<table border=\"1\" class=\"dataframe\">\n",
              "  <thead>\n",
              "    <tr style=\"text-align: right;\">\n",
              "      <th></th>\n",
              "      <th>X</th>\n",
              "      <th>Y</th>\n",
              "      <th>month</th>\n",
              "      <th>day</th>\n",
              "      <th>FFMC</th>\n",
              "      <th>DMC</th>\n",
              "      <th>DC</th>\n",
              "      <th>ISI</th>\n",
              "      <th>temp</th>\n",
              "      <th>RH</th>\n",
              "      <th>...</th>\n",
              "      <th>temp_ge_mean</th>\n",
              "      <th>wind_ge_mean</th>\n",
              "      <th>X_ge_mean</th>\n",
              "      <th>Y_ge_mean</th>\n",
              "      <th>FFMC_minmax_scaled</th>\n",
              "      <th>DC_z_scaled</th>\n",
              "      <th>ISI_z_scaled</th>\n",
              "      <th>temp_z_scaled</th>\n",
              "      <th>RH_z_scaled</th>\n",
              "      <th>wind_z_scaled</th>\n",
              "    </tr>\n",
              "  </thead>\n",
              "  <tbody>\n",
              "    <tr>\n",
              "      <th>0</th>\n",
              "      <td>7</td>\n",
              "      <td>5</td>\n",
              "      <td>mar</td>\n",
              "      <td>fri</td>\n",
              "      <td>86.2</td>\n",
              "      <td>26.2</td>\n",
              "      <td>94.3</td>\n",
              "      <td>5.1</td>\n",
              "      <td>8.2</td>\n",
              "      <td>51</td>\n",
              "      <td>...</td>\n",
              "      <td>False</td>\n",
              "      <td>True</td>\n",
              "      <td>True</td>\n",
              "      <td>True</td>\n",
              "      <td>0.870968</td>\n",
              "      <td>-1.830477</td>\n",
              "      <td>-0.860946</td>\n",
              "      <td>-1.842640</td>\n",
              "      <td>0.411724</td>\n",
              "      <td>1.498614</td>\n",
              "    </tr>\n",
              "    <tr>\n",
              "      <th>1</th>\n",
              "      <td>7</td>\n",
              "      <td>4</td>\n",
              "      <td>oct</td>\n",
              "      <td>tue</td>\n",
              "      <td>90.6</td>\n",
              "      <td>35.4</td>\n",
              "      <td>669.1</td>\n",
              "      <td>6.7</td>\n",
              "      <td>18.0</td>\n",
              "      <td>33</td>\n",
              "      <td>...</td>\n",
              "      <td>False</td>\n",
              "      <td>False</td>\n",
              "      <td>True</td>\n",
              "      <td>False</td>\n",
              "      <td>0.927742</td>\n",
              "      <td>0.488891</td>\n",
              "      <td>-0.509688</td>\n",
              "      <td>-0.153278</td>\n",
              "      <td>-0.692456</td>\n",
              "      <td>-1.741756</td>\n",
              "    </tr>\n",
              "    <tr>\n",
              "      <th>2</th>\n",
              "      <td>7</td>\n",
              "      <td>4</td>\n",
              "      <td>oct</td>\n",
              "      <td>sat</td>\n",
              "      <td>90.6</td>\n",
              "      <td>43.7</td>\n",
              "      <td>686.9</td>\n",
              "      <td>6.7</td>\n",
              "      <td>14.6</td>\n",
              "      <td>33</td>\n",
              "      <td>...</td>\n",
              "      <td>False</td>\n",
              "      <td>False</td>\n",
              "      <td>True</td>\n",
              "      <td>False</td>\n",
              "      <td>0.927742</td>\n",
              "      <td>0.560715</td>\n",
              "      <td>-0.509688</td>\n",
              "      <td>-0.739383</td>\n",
              "      <td>-0.692456</td>\n",
              "      <td>-1.518282</td>\n",
              "    </tr>\n",
              "    <tr>\n",
              "      <th>3</th>\n",
              "      <td>8</td>\n",
              "      <td>6</td>\n",
              "      <td>mar</td>\n",
              "      <td>fri</td>\n",
              "      <td>91.7</td>\n",
              "      <td>33.3</td>\n",
              "      <td>77.5</td>\n",
              "      <td>9.0</td>\n",
              "      <td>8.3</td>\n",
              "      <td>97</td>\n",
              "      <td>...</td>\n",
              "      <td>False</td>\n",
              "      <td>False</td>\n",
              "      <td>True</td>\n",
              "      <td>True</td>\n",
              "      <td>0.941935</td>\n",
              "      <td>-1.898266</td>\n",
              "      <td>-0.004756</td>\n",
              "      <td>-1.825402</td>\n",
              "      <td>3.233519</td>\n",
              "      <td>-0.009834</td>\n",
              "    </tr>\n",
              "    <tr>\n",
              "      <th>4</th>\n",
              "      <td>8</td>\n",
              "      <td>6</td>\n",
              "      <td>mar</td>\n",
              "      <td>sun</td>\n",
              "      <td>89.3</td>\n",
              "      <td>51.3</td>\n",
              "      <td>102.2</td>\n",
              "      <td>9.6</td>\n",
              "      <td>11.4</td>\n",
              "      <td>99</td>\n",
              "      <td>...</td>\n",
              "      <td>False</td>\n",
              "      <td>False</td>\n",
              "      <td>True</td>\n",
              "      <td>True</td>\n",
              "      <td>0.910968</td>\n",
              "      <td>-1.798600</td>\n",
              "      <td>0.126966</td>\n",
              "      <td>-1.291012</td>\n",
              "      <td>3.356206</td>\n",
              "      <td>-1.238940</td>\n",
              "    </tr>\n",
              "  </tbody>\n",
              "</table>\n",
              "<p>5 rows × 23 columns</p>\n",
              "</div>\n",
              "      <button class=\"colab-df-convert\" onclick=\"convertToInteractive('df-16a3748f-78fa-4e38-a0cb-1f227cca8ca2')\"\n",
              "              title=\"Convert this dataframe to an interactive table.\"\n",
              "              style=\"display:none;\">\n",
              "        \n",
              "  <svg xmlns=\"http://www.w3.org/2000/svg\" height=\"24px\"viewBox=\"0 0 24 24\"\n",
              "       width=\"24px\">\n",
              "    <path d=\"M0 0h24v24H0V0z\" fill=\"none\"/>\n",
              "    <path d=\"M18.56 5.44l.94 2.06.94-2.06 2.06-.94-2.06-.94-.94-2.06-.94 2.06-2.06.94zm-11 1L8.5 8.5l.94-2.06 2.06-.94-2.06-.94L8.5 2.5l-.94 2.06-2.06.94zm10 10l.94 2.06.94-2.06 2.06-.94-2.06-.94-.94-2.06-.94 2.06-2.06.94z\"/><path d=\"M17.41 7.96l-1.37-1.37c-.4-.4-.92-.59-1.43-.59-.52 0-1.04.2-1.43.59L10.3 9.45l-7.72 7.72c-.78.78-.78 2.05 0 2.83L4 21.41c.39.39.9.59 1.41.59.51 0 1.02-.2 1.41-.59l7.78-7.78 2.81-2.81c.8-.78.8-2.07 0-2.86zM5.41 20L4 18.59l7.72-7.72 1.47 1.35L5.41 20z\"/>\n",
              "  </svg>\n",
              "      </button>\n",
              "      \n",
              "  <style>\n",
              "    .colab-df-container {\n",
              "      display:flex;\n",
              "      flex-wrap:wrap;\n",
              "      gap: 12px;\n",
              "    }\n",
              "\n",
              "    .colab-df-convert {\n",
              "      background-color: #E8F0FE;\n",
              "      border: none;\n",
              "      border-radius: 50%;\n",
              "      cursor: pointer;\n",
              "      display: none;\n",
              "      fill: #1967D2;\n",
              "      height: 32px;\n",
              "      padding: 0 0 0 0;\n",
              "      width: 32px;\n",
              "    }\n",
              "\n",
              "    .colab-df-convert:hover {\n",
              "      background-color: #E2EBFA;\n",
              "      box-shadow: 0px 1px 2px rgba(60, 64, 67, 0.3), 0px 1px 3px 1px rgba(60, 64, 67, 0.15);\n",
              "      fill: #174EA6;\n",
              "    }\n",
              "\n",
              "    [theme=dark] .colab-df-convert {\n",
              "      background-color: #3B4455;\n",
              "      fill: #D2E3FC;\n",
              "    }\n",
              "\n",
              "    [theme=dark] .colab-df-convert:hover {\n",
              "      background-color: #434B5C;\n",
              "      box-shadow: 0px 1px 3px 1px rgba(0, 0, 0, 0.15);\n",
              "      filter: drop-shadow(0px 1px 2px rgba(0, 0, 0, 0.3));\n",
              "      fill: #FFFFFF;\n",
              "    }\n",
              "  </style>\n",
              "\n",
              "      <script>\n",
              "        const buttonEl =\n",
              "          document.querySelector('#df-16a3748f-78fa-4e38-a0cb-1f227cca8ca2 button.colab-df-convert');\n",
              "        buttonEl.style.display =\n",
              "          google.colab.kernel.accessAllowed ? 'block' : 'none';\n",
              "\n",
              "        async function convertToInteractive(key) {\n",
              "          const element = document.querySelector('#df-16a3748f-78fa-4e38-a0cb-1f227cca8ca2');\n",
              "          const dataTable =\n",
              "            await google.colab.kernel.invokeFunction('convertToInteractive',\n",
              "                                                     [key], {});\n",
              "          if (!dataTable) return;\n",
              "\n",
              "          const docLinkHtml = 'Like what you see? Visit the ' +\n",
              "            '<a target=\"_blank\" href=https://colab.research.google.com/notebooks/data_table.ipynb>data table notebook</a>'\n",
              "            + ' to learn more about interactive tables.';\n",
              "          element.innerHTML = '';\n",
              "          dataTable['output_type'] = 'display_data';\n",
              "          await google.colab.output.renderOutput(dataTable, element);\n",
              "          const docLink = document.createElement('div');\n",
              "          docLink.innerHTML = docLinkHtml;\n",
              "          element.appendChild(docLink);\n",
              "        }\n",
              "      </script>\n",
              "    </div>\n",
              "  </div>\n",
              "  "
            ]
          },
          "metadata": {},
          "execution_count": 66
        }
      ]
    },
    {
      "cell_type": "code",
      "source": [
        "output_df = data_df.iloc[:,-6:]\n",
        "output_df.to_csv(\"data_normalized.csv\", sep = \",\", header = True)"
      ],
      "metadata": {
        "id": "D1SyhgG-4g0_"
      },
      "execution_count": 67,
      "outputs": []
    },
    {
      "cell_type": "markdown",
      "metadata": {
        "id": "WfuDE__WFRkc"
      },
      "source": [
        "## Task 8. PCA"
      ]
    },
    {
      "cell_type": "code",
      "source": [
        "pca_df = output_df.iloc[:,1:]\n",
        "pca_df"
      ],
      "metadata": {
        "colab": {
          "base_uri": "https://localhost:8080/",
          "height": 424
        },
        "id": "pNbTCpwAH-dS",
        "outputId": "e6b42542-f921-4303-9173-a2b13b5a75a0"
      },
      "execution_count": 68,
      "outputs": [
        {
          "output_type": "execute_result",
          "data": {
            "text/plain": [
              "     DC_z_scaled  ISI_z_scaled  temp_z_scaled  RH_z_scaled  wind_z_scaled\n",
              "0      -1.830477     -0.860946      -1.842640     0.411724       1.498614\n",
              "1       0.488891     -0.509688      -0.153278    -0.692456      -1.741756\n",
              "2       0.560715     -0.509688      -0.739383    -0.692456      -1.518282\n",
              "3      -1.898266     -0.004756      -1.825402     3.233519      -0.009834\n",
              "4      -1.798600      0.126966      -1.291012     3.356206      -1.238940\n",
              "..           ...           ...            ...          ...            ...\n",
              "512     0.474768     -1.563460       1.536084    -0.753800      -0.736124\n",
              "513     0.474768     -1.563460       0.519019     1.638592       0.995798\n",
              "514     0.474768     -1.563460       0.398350     1.577248       1.498614\n",
              "515     0.269382      0.500176       1.156839    -0.140366      -0.009834\n",
              "516    -1.780442     -1.739089      -1.222058    -0.815143       0.269509\n",
              "\n",
              "[517 rows x 5 columns]"
            ],
            "text/html": [
              "\n",
              "  <div id=\"df-4e5c8992-b52a-468c-8040-9d33bc816d12\">\n",
              "    <div class=\"colab-df-container\">\n",
              "      <div>\n",
              "<style scoped>\n",
              "    .dataframe tbody tr th:only-of-type {\n",
              "        vertical-align: middle;\n",
              "    }\n",
              "\n",
              "    .dataframe tbody tr th {\n",
              "        vertical-align: top;\n",
              "    }\n",
              "\n",
              "    .dataframe thead th {\n",
              "        text-align: right;\n",
              "    }\n",
              "</style>\n",
              "<table border=\"1\" class=\"dataframe\">\n",
              "  <thead>\n",
              "    <tr style=\"text-align: right;\">\n",
              "      <th></th>\n",
              "      <th>DC_z_scaled</th>\n",
              "      <th>ISI_z_scaled</th>\n",
              "      <th>temp_z_scaled</th>\n",
              "      <th>RH_z_scaled</th>\n",
              "      <th>wind_z_scaled</th>\n",
              "    </tr>\n",
              "  </thead>\n",
              "  <tbody>\n",
              "    <tr>\n",
              "      <th>0</th>\n",
              "      <td>-1.830477</td>\n",
              "      <td>-0.860946</td>\n",
              "      <td>-1.842640</td>\n",
              "      <td>0.411724</td>\n",
              "      <td>1.498614</td>\n",
              "    </tr>\n",
              "    <tr>\n",
              "      <th>1</th>\n",
              "      <td>0.488891</td>\n",
              "      <td>-0.509688</td>\n",
              "      <td>-0.153278</td>\n",
              "      <td>-0.692456</td>\n",
              "      <td>-1.741756</td>\n",
              "    </tr>\n",
              "    <tr>\n",
              "      <th>2</th>\n",
              "      <td>0.560715</td>\n",
              "      <td>-0.509688</td>\n",
              "      <td>-0.739383</td>\n",
              "      <td>-0.692456</td>\n",
              "      <td>-1.518282</td>\n",
              "    </tr>\n",
              "    <tr>\n",
              "      <th>3</th>\n",
              "      <td>-1.898266</td>\n",
              "      <td>-0.004756</td>\n",
              "      <td>-1.825402</td>\n",
              "      <td>3.233519</td>\n",
              "      <td>-0.009834</td>\n",
              "    </tr>\n",
              "    <tr>\n",
              "      <th>4</th>\n",
              "      <td>-1.798600</td>\n",
              "      <td>0.126966</td>\n",
              "      <td>-1.291012</td>\n",
              "      <td>3.356206</td>\n",
              "      <td>-1.238940</td>\n",
              "    </tr>\n",
              "    <tr>\n",
              "      <th>...</th>\n",
              "      <td>...</td>\n",
              "      <td>...</td>\n",
              "      <td>...</td>\n",
              "      <td>...</td>\n",
              "      <td>...</td>\n",
              "    </tr>\n",
              "    <tr>\n",
              "      <th>512</th>\n",
              "      <td>0.474768</td>\n",
              "      <td>-1.563460</td>\n",
              "      <td>1.536084</td>\n",
              "      <td>-0.753800</td>\n",
              "      <td>-0.736124</td>\n",
              "    </tr>\n",
              "    <tr>\n",
              "      <th>513</th>\n",
              "      <td>0.474768</td>\n",
              "      <td>-1.563460</td>\n",
              "      <td>0.519019</td>\n",
              "      <td>1.638592</td>\n",
              "      <td>0.995798</td>\n",
              "    </tr>\n",
              "    <tr>\n",
              "      <th>514</th>\n",
              "      <td>0.474768</td>\n",
              "      <td>-1.563460</td>\n",
              "      <td>0.398350</td>\n",
              "      <td>1.577248</td>\n",
              "      <td>1.498614</td>\n",
              "    </tr>\n",
              "    <tr>\n",
              "      <th>515</th>\n",
              "      <td>0.269382</td>\n",
              "      <td>0.500176</td>\n",
              "      <td>1.156839</td>\n",
              "      <td>-0.140366</td>\n",
              "      <td>-0.009834</td>\n",
              "    </tr>\n",
              "    <tr>\n",
              "      <th>516</th>\n",
              "      <td>-1.780442</td>\n",
              "      <td>-1.739089</td>\n",
              "      <td>-1.222058</td>\n",
              "      <td>-0.815143</td>\n",
              "      <td>0.269509</td>\n",
              "    </tr>\n",
              "  </tbody>\n",
              "</table>\n",
              "<p>517 rows × 5 columns</p>\n",
              "</div>\n",
              "      <button class=\"colab-df-convert\" onclick=\"convertToInteractive('df-4e5c8992-b52a-468c-8040-9d33bc816d12')\"\n",
              "              title=\"Convert this dataframe to an interactive table.\"\n",
              "              style=\"display:none;\">\n",
              "        \n",
              "  <svg xmlns=\"http://www.w3.org/2000/svg\" height=\"24px\"viewBox=\"0 0 24 24\"\n",
              "       width=\"24px\">\n",
              "    <path d=\"M0 0h24v24H0V0z\" fill=\"none\"/>\n",
              "    <path d=\"M18.56 5.44l.94 2.06.94-2.06 2.06-.94-2.06-.94-.94-2.06-.94 2.06-2.06.94zm-11 1L8.5 8.5l.94-2.06 2.06-.94-2.06-.94L8.5 2.5l-.94 2.06-2.06.94zm10 10l.94 2.06.94-2.06 2.06-.94-2.06-.94-.94-2.06-.94 2.06-2.06.94z\"/><path d=\"M17.41 7.96l-1.37-1.37c-.4-.4-.92-.59-1.43-.59-.52 0-1.04.2-1.43.59L10.3 9.45l-7.72 7.72c-.78.78-.78 2.05 0 2.83L4 21.41c.39.39.9.59 1.41.59.51 0 1.02-.2 1.41-.59l7.78-7.78 2.81-2.81c.8-.78.8-2.07 0-2.86zM5.41 20L4 18.59l7.72-7.72 1.47 1.35L5.41 20z\"/>\n",
              "  </svg>\n",
              "      </button>\n",
              "      \n",
              "  <style>\n",
              "    .colab-df-container {\n",
              "      display:flex;\n",
              "      flex-wrap:wrap;\n",
              "      gap: 12px;\n",
              "    }\n",
              "\n",
              "    .colab-df-convert {\n",
              "      background-color: #E8F0FE;\n",
              "      border: none;\n",
              "      border-radius: 50%;\n",
              "      cursor: pointer;\n",
              "      display: none;\n",
              "      fill: #1967D2;\n",
              "      height: 32px;\n",
              "      padding: 0 0 0 0;\n",
              "      width: 32px;\n",
              "    }\n",
              "\n",
              "    .colab-df-convert:hover {\n",
              "      background-color: #E2EBFA;\n",
              "      box-shadow: 0px 1px 2px rgba(60, 64, 67, 0.3), 0px 1px 3px 1px rgba(60, 64, 67, 0.15);\n",
              "      fill: #174EA6;\n",
              "    }\n",
              "\n",
              "    [theme=dark] .colab-df-convert {\n",
              "      background-color: #3B4455;\n",
              "      fill: #D2E3FC;\n",
              "    }\n",
              "\n",
              "    [theme=dark] .colab-df-convert:hover {\n",
              "      background-color: #434B5C;\n",
              "      box-shadow: 0px 1px 3px 1px rgba(0, 0, 0, 0.15);\n",
              "      filter: drop-shadow(0px 1px 2px rgba(0, 0, 0, 0.3));\n",
              "      fill: #FFFFFF;\n",
              "    }\n",
              "  </style>\n",
              "\n",
              "      <script>\n",
              "        const buttonEl =\n",
              "          document.querySelector('#df-4e5c8992-b52a-468c-8040-9d33bc816d12 button.colab-df-convert');\n",
              "        buttonEl.style.display =\n",
              "          google.colab.kernel.accessAllowed ? 'block' : 'none';\n",
              "\n",
              "        async function convertToInteractive(key) {\n",
              "          const element = document.querySelector('#df-4e5c8992-b52a-468c-8040-9d33bc816d12');\n",
              "          const dataTable =\n",
              "            await google.colab.kernel.invokeFunction('convertToInteractive',\n",
              "                                                     [key], {});\n",
              "          if (!dataTable) return;\n",
              "\n",
              "          const docLinkHtml = 'Like what you see? Visit the ' +\n",
              "            '<a target=\"_blank\" href=https://colab.research.google.com/notebooks/data_table.ipynb>data table notebook</a>'\n",
              "            + ' to learn more about interactive tables.';\n",
              "          element.innerHTML = '';\n",
              "          dataTable['output_type'] = 'display_data';\n",
              "          await google.colab.output.renderOutput(dataTable, element);\n",
              "          const docLink = document.createElement('div');\n",
              "          docLink.innerHTML = docLinkHtml;\n",
              "          element.appendChild(docLink);\n",
              "        }\n",
              "      </script>\n",
              "    </div>\n",
              "  </div>\n",
              "  "
            ]
          },
          "metadata": {},
          "execution_count": 68
        }
      ]
    },
    {
      "cell_type": "code",
      "metadata": {
        "id": "4rdN0slMFRkc",
        "colab": {
          "base_uri": "https://localhost:8080/"
        },
        "outputId": "b10ff54b-941f-49a8-ba7e-f7bea7550603"
      },
      "source": [
        "from sklearn.decomposition import PCA\n",
        "\n",
        "pca = PCA()\n",
        "pca.fit_transform(pca_df)\n",
        "eignvalue = pca.explained_variance_\n",
        "cum_explained_ratio = pca.explained_variance_ratio_.cumsum()\n",
        "\n",
        "print(f'eignvalue: {eignvalue}\\ncumulative explained ratio: {cum_explained_ratio}')"
      ],
      "execution_count": 69,
      "outputs": [
        {
          "output_type": "stream",
          "name": "stdout",
          "text": [
            "eignvalue: [2.01883108 1.11358567 0.98519395 0.62366511 0.2684141 ]\n",
            "cumulative explained ratio: [0.40298524 0.62527158 0.82192925 0.94642101 1.        ]\n"
          ]
        }
      ]
    },
    {
      "cell_type": "code",
      "source": [
        "fig, axes = plt.subplots(1,1, figsize=(16,7), dpi=100)\n",
        "plt.plot(range(1,6), cum_explained_ratio, color = 'firebrick')\n",
        "plt.title('Variance Explained Ratio %', fontsize=22)\n",
        "plt.xlabel('Number of Principal Components', fontsize=16)\n",
        "axes.set_xticks([1,2,3,4,5])\n"
      ],
      "metadata": {
        "colab": {
          "base_uri": "https://localhost:8080/",
          "height": 735
        },
        "id": "_Qq1d99nJFW-",
        "outputId": "1fe6f5e2-bcd3-4719-8dd0-4fae65e3999b"
      },
      "execution_count": 70,
      "outputs": [
        {
          "output_type": "execute_result",
          "data": {
            "text/plain": [
              "[<matplotlib.axis.XTick at 0x7eff176db410>,\n",
              " <matplotlib.axis.XTick at 0x7eff176db3d0>,\n",
              " <matplotlib.axis.XTick at 0x7eff176deb10>,\n",
              " <matplotlib.axis.XTick at 0x7eff1766ed90>,\n",
              " <matplotlib.axis.XTick at 0x7eff17667390>]"
            ]
          },
          "metadata": {},
          "execution_count": 70
        },
        {
          "output_type": "display_data",
          "data": {
            "text/plain": [
              "<Figure size 1600x700 with 1 Axes>"
            ],
            "image/png": "[encoded data removed]"
          },
          "metadata": {
            "needs_background": "light"
          }
        }
      ]
    },
    {
      "cell_type": "code",
      "source": [
        "pca_df.head()"
      ],
      "metadata": {
        "colab": {
          "base_uri": "https://localhost:8080/",
          "height": 206
        },
        "id": "21NPQOZquW6A",
        "outputId": "9dd8a93b-cb81-40b3-a22d-4c82a8ed49fa"
      },
      "execution_count": 71,
      "outputs": [
        {
          "output_type": "execute_result",
          "data": {
            "text/plain": [
              "   DC_z_scaled  ISI_z_scaled  temp_z_scaled  RH_z_scaled  wind_z_scaled\n",
              "0    -1.830477     -0.860946      -1.842640     0.411724       1.498614\n",
              "1     0.488891     -0.509688      -0.153278    -0.692456      -1.741756\n",
              "2     0.560715     -0.509688      -0.739383    -0.692456      -1.518282\n",
              "3    -1.898266     -0.004756      -1.825402     3.233519      -0.009834\n",
              "4    -1.798600      0.126966      -1.291012     3.356206      -1.238940"
            ],
            "text/html": [
              "\n",
              "  <div id=\"df-b5a77755-961e-455d-bc5c-cfbc73b5779a\">\n",
              "    <div class=\"colab-df-container\">\n",
              "      <div>\n",
              "<style scoped>\n",
              "    .dataframe tbody tr th:only-of-type {\n",
              "        vertical-align: middle;\n",
              "    }\n",
              "\n",
              "    .dataframe tbody tr th {\n",
              "        vertical-align: top;\n",
              "    }\n",
              "\n",
              "    .dataframe thead th {\n",
              "        text-align: right;\n",
              "    }\n",
              "</style>\n",
              "<table border=\"1\" class=\"dataframe\">\n",
              "  <thead>\n",
              "    <tr style=\"text-align: right;\">\n",
              "      <th></th>\n",
              "      <th>DC_z_scaled</th>\n",
              "      <th>ISI_z_scaled</th>\n",
              "      <th>temp_z_scaled</th>\n",
              "      <th>RH_z_scaled</th>\n",
              "      <th>wind_z_scaled</th>\n",
              "    </tr>\n",
              "  </thead>\n",
              "  <tbody>\n",
              "    <tr>\n",
              "      <th>0</th>\n",
              "      <td>-1.830477</td>\n",
              "      <td>-0.860946</td>\n",
              "      <td>-1.842640</td>\n",
              "      <td>0.411724</td>\n",
              "      <td>1.498614</td>\n",
              "    </tr>\n",
              "    <tr>\n",
              "      <th>1</th>\n",
              "      <td>0.488891</td>\n",
              "      <td>-0.509688</td>\n",
              "      <td>-0.153278</td>\n",
              "      <td>-0.692456</td>\n",
              "      <td>-1.741756</td>\n",
              "    </tr>\n",
              "    <tr>\n",
              "      <th>2</th>\n",
              "      <td>0.560715</td>\n",
              "      <td>-0.509688</td>\n",
              "      <td>-0.739383</td>\n",
              "      <td>-0.692456</td>\n",
              "      <td>-1.518282</td>\n",
              "    </tr>\n",
              "    <tr>\n",
              "      <th>3</th>\n",
              "      <td>-1.898266</td>\n",
              "      <td>-0.004756</td>\n",
              "      <td>-1.825402</td>\n",
              "      <td>3.233519</td>\n",
              "      <td>-0.009834</td>\n",
              "    </tr>\n",
              "    <tr>\n",
              "      <th>4</th>\n",
              "      <td>-1.798600</td>\n",
              "      <td>0.126966</td>\n",
              "      <td>-1.291012</td>\n",
              "      <td>3.356206</td>\n",
              "      <td>-1.238940</td>\n",
              "    </tr>\n",
              "  </tbody>\n",
              "</table>\n",
              "</div>\n",
              "      <button class=\"colab-df-convert\" onclick=\"convertToInteractive('df-b5a77755-961e-455d-bc5c-cfbc73b5779a')\"\n",
              "              title=\"Convert this dataframe to an interactive table.\"\n",
              "              style=\"display:none;\">\n",
              "        \n",
              "  <svg xmlns=\"http://www.w3.org/2000/svg\" height=\"24px\"viewBox=\"0 0 24 24\"\n",
              "       width=\"24px\">\n",
              "    <path d=\"M0 0h24v24H0V0z\" fill=\"none\"/>\n",
              "    <path d=\"M18.56 5.44l.94 2.06.94-2.06 2.06-.94-2.06-.94-.94-2.06-.94 2.06-2.06.94zm-11 1L8.5 8.5l.94-2.06 2.06-.94-2.06-.94L8.5 2.5l-.94 2.06-2.06.94zm10 10l.94 2.06.94-2.06 2.06-.94-2.06-.94-.94-2.06-.94 2.06-2.06.94z\"/><path d=\"M17.41 7.96l-1.37-1.37c-.4-.4-.92-.59-1.43-.59-.52 0-1.04.2-1.43.59L10.3 9.45l-7.72 7.72c-.78.78-.78 2.05 0 2.83L4 21.41c.39.39.9.59 1.41.59.51 0 1.02-.2 1.41-.59l7.78-7.78 2.81-2.81c.8-.78.8-2.07 0-2.86zM5.41 20L4 18.59l7.72-7.72 1.47 1.35L5.41 20z\"/>\n",
              "  </svg>\n",
              "      </button>\n",
              "      \n",
              "  <style>\n",
              "    .colab-df-container {\n",
              "      display:flex;\n",
              "      flex-wrap:wrap;\n",
              "      gap: 12px;\n",
              "    }\n",
              "\n",
              "    .colab-df-convert {\n",
              "      background-color: #E8F0FE;\n",
              "      border: none;\n",
              "      border-radius: 50%;\n",
              "      cursor: pointer;\n",
              "      display: none;\n",
              "      fill: #1967D2;\n",
              "      height: 32px;\n",
              "      padding: 0 0 0 0;\n",
              "      width: 32px;\n",
              "    }\n",
              "\n",
              "    .colab-df-convert:hover {\n",
              "      background-color: #E2EBFA;\n",
              "      box-shadow: 0px 1px 2px rgba(60, 64, 67, 0.3), 0px 1px 3px 1px rgba(60, 64, 67, 0.15);\n",
              "      fill: #174EA6;\n",
              "    }\n",
              "\n",
              "    [theme=dark] .colab-df-convert {\n",
              "      background-color: #3B4455;\n",
              "      fill: #D2E3FC;\n",
              "    }\n",
              "\n",
              "    [theme=dark] .colab-df-convert:hover {\n",
              "      background-color: #434B5C;\n",
              "      box-shadow: 0px 1px 3px 1px rgba(0, 0, 0, 0.15);\n",
              "      filter: drop-shadow(0px 1px 2px rgba(0, 0, 0, 0.3));\n",
              "      fill: #FFFFFF;\n",
              "    }\n",
              "  </style>\n",
              "\n",
              "      <script>\n",
              "        const buttonEl =\n",
              "          document.querySelector('#df-b5a77755-961e-455d-bc5c-cfbc73b5779a button.colab-df-convert');\n",
              "        buttonEl.style.display =\n",
              "          google.colab.kernel.accessAllowed ? 'block' : 'none';\n",
              "\n",
              "        async function convertToInteractive(key) {\n",
              "          const element = document.querySelector('#df-b5a77755-961e-455d-bc5c-cfbc73b5779a');\n",
              "          const dataTable =\n",
              "            await google.colab.kernel.invokeFunction('convertToInteractive',\n",
              "                                                     [key], {});\n",
              "          if (!dataTable) return;\n",
              "\n",
              "          const docLinkHtml = 'Like what you see? Visit the ' +\n",
              "            '<a target=\"_blank\" href=https://colab.research.google.com/notebooks/data_table.ipynb>data table notebook</a>'\n",
              "            + ' to learn more about interactive tables.';\n",
              "          element.innerHTML = '';\n",
              "          dataTable['output_type'] = 'display_data';\n",
              "          await google.colab.output.renderOutput(dataTable, element);\n",
              "          const docLink = document.createElement('div');\n",
              "          docLink.innerHTML = docLinkHtml;\n",
              "          element.appendChild(docLink);\n",
              "        }\n",
              "      </script>\n",
              "    </div>\n",
              "  </div>\n",
              "  "
            ]
          },
          "metadata": {},
          "execution_count": 71
        }
      ]
    },
    {
      "cell_type": "code",
      "source": [
        "pca_4 = PCA(n_components = 4)\n",
        "pca4_result = pca_4.fit_transform(pca_df)\n",
        "\n",
        "pca4_df = pd.DataFrame(pca4_result, columns = [\"PC1\", \"PC2\", \"PC3\", \"PC4\"])\n",
        "pca4_df.head()"
      ],
      "metadata": {
        "colab": {
          "base_uri": "https://localhost:8080/",
          "height": 206
        },
        "id": "4yisfxOEteUS",
        "outputId": "c5bd25cf-c007-479b-9431-192cf392be18"
      },
      "execution_count": 72,
      "outputs": [
        {
          "output_type": "execute_result",
          "data": {
            "text/plain": [
              "        PC1       PC2       PC3       PC4\n",
              "0  2.870774  1.038181 -0.737692 -0.148180\n",
              "1 -0.611544 -1.673690 -0.506513  0.295610\n",
              "2 -0.217798 -1.520256 -0.397966  0.191054\n",
              "3  3.400801 -0.095649  1.557776  1.614286\n",
              "4  2.735682 -1.035390  1.632195  2.279629"
            ],
            "text/html": [
              "\n",
              "  <div id=\"df-e02e9487-9476-4391-ba17-9b23673bc6e8\">\n",
              "    <div class=\"colab-df-container\">\n",
              "      <div>\n",
              "<style scoped>\n",
              "    .dataframe tbody tr th:only-of-type {\n",
              "        vertical-align: middle;\n",
              "    }\n",
              "\n",
              "    .dataframe tbody tr th {\n",
              "        vertical-align: top;\n",
              "    }\n",
              "\n",
              "    .dataframe thead th {\n",
              "        text-align: right;\n",
              "    }\n",
              "</style>\n",
              "<table border=\"1\" class=\"dataframe\">\n",
              "  <thead>\n",
              "    <tr style=\"text-align: right;\">\n",
              "      <th></th>\n",
              "      <th>PC1</th>\n",
              "      <th>PC2</th>\n",
              "      <th>PC3</th>\n",
              "      <th>PC4</th>\n",
              "    </tr>\n",
              "  </thead>\n",
              "  <tbody>\n",
              "    <tr>\n",
              "      <th>0</th>\n",
              "      <td>2.870774</td>\n",
              "      <td>1.038181</td>\n",
              "      <td>-0.737692</td>\n",
              "      <td>-0.148180</td>\n",
              "    </tr>\n",
              "    <tr>\n",
              "      <th>1</th>\n",
              "      <td>-0.611544</td>\n",
              "      <td>-1.673690</td>\n",
              "      <td>-0.506513</td>\n",
              "      <td>0.295610</td>\n",
              "    </tr>\n",
              "    <tr>\n",
              "      <th>2</th>\n",
              "      <td>-0.217798</td>\n",
              "      <td>-1.520256</td>\n",
              "      <td>-0.397966</td>\n",
              "      <td>0.191054</td>\n",
              "    </tr>\n",
              "    <tr>\n",
              "      <th>3</th>\n",
              "      <td>3.400801</td>\n",
              "      <td>-0.095649</td>\n",
              "      <td>1.557776</td>\n",
              "      <td>1.614286</td>\n",
              "    </tr>\n",
              "    <tr>\n",
              "      <th>4</th>\n",
              "      <td>2.735682</td>\n",
              "      <td>-1.035390</td>\n",
              "      <td>1.632195</td>\n",
              "      <td>2.279629</td>\n",
              "    </tr>\n",
              "  </tbody>\n",
              "</table>\n",
              "</div>\n",
              "      <button class=\"colab-df-convert\" onclick=\"convertToInteractive('df-e02e9487-9476-4391-ba17-9b23673bc6e8')\"\n",
              "              title=\"Convert this dataframe to an interactive table.\"\n",
              "              style=\"display:none;\">\n",
              "        \n",
              "  <svg xmlns=\"http://www.w3.org/2000/svg\" height=\"24px\"viewBox=\"0 0 24 24\"\n",
              "       width=\"24px\">\n",
              "    <path d=\"M0 0h24v24H0V0z\" fill=\"none\"/>\n",
              "    <path d=\"M18.56 5.44l.94 2.06.94-2.06 2.06-.94-2.06-.94-.94-2.06-.94 2.06-2.06.94zm-11 1L8.5 8.5l.94-2.06 2.06-.94-2.06-.94L8.5 2.5l-.94 2.06-2.06.94zm10 10l.94 2.06.94-2.06 2.06-.94-2.06-.94-.94-2.06-.94 2.06-2.06.94z\"/><path d=\"M17.41 7.96l-1.37-1.37c-.4-.4-.92-.59-1.43-.59-.52 0-1.04.2-1.43.59L10.3 9.45l-7.72 7.72c-.78.78-.78 2.05 0 2.83L4 21.41c.39.39.9.59 1.41.59.51 0 1.02-.2 1.41-.59l7.78-7.78 2.81-2.81c.8-.78.8-2.07 0-2.86zM5.41 20L4 18.59l7.72-7.72 1.47 1.35L5.41 20z\"/>\n",
              "  </svg>\n",
              "      </button>\n",
              "      \n",
              "  <style>\n",
              "    .colab-df-container {\n",
              "      display:flex;\n",
              "      flex-wrap:wrap;\n",
              "      gap: 12px;\n",
              "    }\n",
              "\n",
              "    .colab-df-convert {\n",
              "      background-color: #E8F0FE;\n",
              "      border: none;\n",
              "      border-radius: 50%;\n",
              "      cursor: pointer;\n",
              "      display: none;\n",
              "      fill: #1967D2;\n",
              "      height: 32px;\n",
              "      padding: 0 0 0 0;\n",
              "      width: 32px;\n",
              "    }\n",
              "\n",
              "    .colab-df-convert:hover {\n",
              "      background-color: #E2EBFA;\n",
              "      box-shadow: 0px 1px 2px rgba(60, 64, 67, 0.3), 0px 1px 3px 1px rgba(60, 64, 67, 0.15);\n",
              "      fill: #174EA6;\n",
              "    }\n",
              "\n",
              "    [theme=dark] .colab-df-convert {\n",
              "      background-color: #3B4455;\n",
              "      fill: #D2E3FC;\n",
              "    }\n",
              "\n",
              "    [theme=dark] .colab-df-convert:hover {\n",
              "      background-color: #434B5C;\n",
              "      box-shadow: 0px 1px 3px 1px rgba(0, 0, 0, 0.15);\n",
              "      filter: drop-shadow(0px 1px 2px rgba(0, 0, 0, 0.3));\n",
              "      fill: #FFFFFF;\n",
              "    }\n",
              "  </style>\n",
              "\n",
              "      <script>\n",
              "        const buttonEl =\n",
              "          document.querySelector('#df-e02e9487-9476-4391-ba17-9b23673bc6e8 button.colab-df-convert');\n",
              "        buttonEl.style.display =\n",
              "          google.colab.kernel.accessAllowed ? 'block' : 'none';\n",
              "\n",
              "        async function convertToInteractive(key) {\n",
              "          const element = document.querySelector('#df-e02e9487-9476-4391-ba17-9b23673bc6e8');\n",
              "          const dataTable =\n",
              "            await google.colab.kernel.invokeFunction('convertToInteractive',\n",
              "                                                     [key], {});\n",
              "          if (!dataTable) return;\n",
              "\n",
              "          const docLinkHtml = 'Like what you see? Visit the ' +\n",
              "            '<a target=\"_blank\" href=https://colab.research.google.com/notebooks/data_table.ipynb>data table notebook</a>'\n",
              "            + ' to learn more about interactive tables.';\n",
              "          element.innerHTML = '';\n",
              "          dataTable['output_type'] = 'display_data';\n",
              "          await google.colab.output.renderOutput(dataTable, element);\n",
              "          const docLink = document.createElement('div');\n",
              "          docLink.innerHTML = docLinkHtml;\n",
              "          element.appendChild(docLink);\n",
              "        }\n",
              "      </script>\n",
              "    </div>\n",
              "  </div>\n",
              "  "
            ]
          },
          "metadata": {},
          "execution_count": 72
        }
      ]
    },
    {
      "cell_type": "code",
      "source": [
        "print(f\"PC1 five number summary: \\n{pca4_df['PC1'].describe()[3:]}\\n\")\n",
        "print(f\"PC2 five number summary: \\n{pca4_df['PC2'].describe()[3:]}\\n\")\n",
        "print(f\"PC3 five number summary: \\n{pca4_df['PC3'].describe()[3:]}\\n\")\n",
        "print(f\"PC4 five number summary: \\n{pca4_df['PC4'].describe()[3:]}\")"
      ],
      "metadata": {
        "colab": {
          "base_uri": "https://localhost:8080/"
        },
        "id": "olRNIk4_MMbn",
        "outputId": "6ab5af69-1e59-4e37-9a5d-37aeb95d523c"
      },
      "execution_count": 73,
      "outputs": [
        {
          "output_type": "stream",
          "name": "stdout",
          "text": [
            "PC1 five number summary: \n",
            "min   -3.510805\n",
            "25%   -0.954405\n",
            "50%   -0.314964\n",
            "75%    0.901589\n",
            "max    4.429676\n",
            "Name: PC1, dtype: float64\n",
            "\n",
            "PC2 five number summary: \n",
            "min   -2.667774\n",
            "25%   -0.812584\n",
            "50%   -0.139537\n",
            "75%    0.761491\n",
            "max    6.145161\n",
            "Name: PC2, dtype: float64\n",
            "\n",
            "PC3 five number summary: \n",
            "min   -2.684707\n",
            "25%   -0.646481\n",
            "50%    0.017439\n",
            "75%    0.631519\n",
            "max    3.627755\n",
            "Name: PC3, dtype: float64\n",
            "\n",
            "PC4 five number summary: \n",
            "min   -1.944936\n",
            "25%   -0.476939\n",
            "50%   -0.054728\n",
            "75%    0.480855\n",
            "max    7.019783\n",
            "Name: PC4, dtype: float64\n"
          ]
        }
      ]
    },
    {
      "cell_type": "code",
      "source": [
        "pca4_df.to_csv('data_reduced.csv',sep = ',', header = False)"
      ],
      "metadata": {
        "id": "FbWfOQDJxoT2"
      },
      "execution_count": 82,
      "outputs": []
    },
    {
      "cell_type": "markdown",
      "metadata": {
        "id": "v--0Zx67FRka"
      },
      "source": [
        "## Task 9. Missing values"
      ]
    },
    {
      "cell_type": "markdown",
      "metadata": {
        "id": "hUpiAoIczhfH"
      },
      "source": [
        "reloading the dataset"
      ]
    },
    {
      "cell_type": "code",
      "metadata": {
        "id": "qSXoKd5hFRkc"
      },
      "source": [
        "data_df = pd.read_csv(data_file, sep=',')"
      ],
      "execution_count": 75,
      "outputs": []
    },
    {
      "cell_type": "code",
      "source": [
        "def Average(lst):\n",
        "    return sum(lst) / len(lst)"
      ],
      "metadata": {
        "id": "cVIFTZxq8DVq"
      },
      "execution_count": 76,
      "outputs": []
    },
    {
      "cell_type": "code",
      "metadata": {
        "id": "ymMjtWymy9um"
      },
      "source": [
        "area_list = data_df.area.tolist()\n",
        "area_list = list(filter(lambda a: a != 0.0, area_list))\n",
        "area_avg = Average(area_list)\n",
        "data_df['area'] = data_df['area'].replace(0.0, area_avg)"
      ],
      "execution_count": 77,
      "outputs": []
    },
    {
      "cell_type": "code",
      "source": [
        "sns.boxplot(data = data_df, y = 'area')"
      ],
      "metadata": {
        "colab": {
          "base_uri": "https://localhost:8080/",
          "height": 270
        },
        "id": "AHZNGT-j8NIL",
        "outputId": "7206cbd1-b91f-4fd0-d6ab-0c5361112d63"
      },
      "execution_count": 78,
      "outputs": [
        {
          "output_type": "execute_result",
          "data": {
            "text/plain": [
              "<matplotlib.axes._subplots.AxesSubplot at 0x7eff1774bfd0>"
            ]
          },
          "metadata": {},
          "execution_count": 78
        },
        {
          "output_type": "display_data",
          "data": {
            "text/plain": [
              "<Figure size 432x288 with 1 Axes>"
            ],
            "image/png": "[encoded data removed]"
          },
          "metadata": {
            "needs_background": "light"
          }
        }
      ]
    },
    {
      "cell_type": "code",
      "source": [
        "print(data_df[['area','wind']].corr(method = 'pearson'))"
      ],
      "metadata": {
        "id": "Ljjasf_Y9hx0",
        "outputId": "53651a2e-157c-4f68-8baf-98569c587d5f",
        "colab": {
          "base_uri": "https://localhost:8080/"
        }
      },
      "execution_count": 79,
      "outputs": [
        {
          "output_type": "stream",
          "name": "stdout",
          "text": [
            "          area      wind\n",
            "area  1.000000  0.001584\n",
            "wind  0.001584  1.000000\n"
          ]
        }
      ]
    }
  ]
}